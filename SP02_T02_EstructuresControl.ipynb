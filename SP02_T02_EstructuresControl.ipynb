{
 "cells": [
  {
   "cell_type": "markdown",
   "id": "3b9d46a8",
   "metadata": {},
   "source": [
    "## Estructures de control amb Python.\n",
    "\n",
    "\n",
    "- **Exercici 1**\n",
    "\n",
    "L'exercici consisteix a crear un programa que et classifiqui una variable numèrica en funció de l’escala Suspès/Aprovat/Notable/Excel·lent.\n",
    "\n",
    "Recorda que Suspès < 5, Aprovat > 5 i < 7, Notable > 7 i < 9 i Excel·lent > 9.\n",
    "\n",
    "- **Exercici 2**\n",
    "\n",
    "Utilitzant el següent tutorial crea un programa que et pregunti dos números. T’ha de mostrar un missatge dient si el primer és més gran, el segon és més gran o són iguals.\n",
    "\n",
    "->Programiz: Python Input, Output and Import\n",
    "\n",
    "\n",
    "- **Exercici 3**\n",
    "\n",
    "Crea un programa que et pregunti el teu nom, i et demani un número. Si el número és 0, hauria de mostrar un missatge d’error. En cas contrari, hauria de mostrar el nom repetit tants cops com indiqui el número. Per exemple, “Joan Joan Joan”.\n",
    "\n",
    "\n",
    "- **Exercici 4**\n",
    "\n",
    "Crea un programa que donada una llista qualsevol, et digui si és simètrica o no. Si ho és, que et digui quants elements té.\n",
    "\n",
    "\n",
    "- **Exercici 5**\n",
    "\n",
    "Crea un programa que donada una llista, et digui quants números coincideixen amb la seva posició. Per exemple [3,4,2,0,2,3,6] el 2 i el 6 coincideixen."
   ]
  },
  {
   "cell_type": "markdown",
   "id": "bbc5a660",
   "metadata": {},
   "source": [
    "## Exercice 1\n",
    "\n",
    "<div class=\"alert alert-block alert-info\">L'exercici consisteix a crear un programa que et classifiqui una variable numèrica en funció de l’escala Suspès/Aprovat/Notable/Excel·lent.\n",
    "\n",
    "Recorda que Suspès < 5, Aprovat > 5 i < 7, Notable > 7 i < 9 i Excel·lent > 9.\n",
    "</div>"
   ]
  },
  {
   "cell_type": "code",
   "execution_count": 45,
   "id": "9b881669",
   "metadata": {},
   "outputs": [
    {
     "name": "stdout",
     "output_type": "stream",
     "text": [
      "Please enter your note between 0 and 10: mm\n",
      "Not a number!\n",
      "Please enter your note between 0 and 10: 10\n",
      "Excel.lent\n"
     ]
    }
   ],
   "source": [
    "## Creem la variable numerica i la passem per l'estructura de control\n",
    "##Començo a practicar amb try/Except\n",
    "## Vull assegurarme que és un número i si no és un número que torni a demanar\n",
    "## Admeto floats per tant faig in cast a float del input\n",
    "\n",
    "while True:\n",
    "    try:\n",
    "        n = float(input('Please enter your note between 0 and 10: '))\n",
    "        break\n",
    "    except ValueError:\n",
    "        print('Not a number!')\n",
    "    \n",
    "if n>= 0 and n<=10:  \n",
    "    if n<5:\n",
    "        print('Suspès')\n",
    "    elif n>= 5 and n<7:\n",
    "        print('Aprovat')\n",
    "    elif n>=7 and n<9:\n",
    "        print('Notable')\n",
    "    else:\n",
    "        print('Excel.lent')\n",
    "else:\n",
    "    print('Not a number between 0 and 10')\n"
   ]
  },
  {
   "cell_type": "markdown",
   "id": "0157356c",
   "metadata": {},
   "source": [
    "## Exercice 2\n",
    "\n",
    "<div class=\"alert alert-block alert-info\">Utilitzant el següent tutorial crea un programa que et pregunti dos números. T’ha de mostrar un missatge dient si el primer és més gran, el segon és més gran o són iguals.\n",
    "\n",
    "->Programiz: Python Input, Output and Import</div>"
   ]
  },
  {
   "cell_type": "code",
   "execution_count": 52,
   "id": "21975719",
   "metadata": {},
   "outputs": [
    {
     "name": "stdout",
     "output_type": "stream",
     "text": [
      "Enter number 1: 24\n",
      "Enter number 2: 24\n",
      "Number 1, 24.0, is equal to number 2, 24.0\n"
     ]
    }
   ],
   "source": [
    "##Segueixo provant try/Except\n",
    "\n",
    "while True:\n",
    "    try:\n",
    "        num1 = float(input('Enter number 1: '))\n",
    "        num2 = float(input('Enter number 2: '))\n",
    "        break\n",
    "    except ValueError:\n",
    "        print('Not a number!')\n",
    "\n",
    "\n",
    "if num1>num2:\n",
    "    print('Number 1, {}, is higher than number 2, {}'.format(num1,num2))\n",
    "elif num1<num2:\n",
    "    print('Number 2, {}, is higher than number 1, {}'.format(num2,num1))\n",
    "else:\n",
    "    print('Number 1, {}, is equal to number 2, {}'.format(num1,num2))"
   ]
  },
  {
   "cell_type": "markdown",
   "id": "7bf73b4d",
   "metadata": {},
   "source": [
    "## Exercice 3\n",
    "\n",
    "<div class=\"alert alert-block alert-info\">Crea un programa que et pregunti el teu nom, i et demani un número. Si el número és 0, hauria de mostrar un missatge d’error. En cas contrari, hauria de mostrar el nom repetit tants cops com indiqui el número. Per exemple, “Joan Joan Joan”.</div>"
   ]
  },
  {
   "cell_type": "code",
   "execution_count": 64,
   "id": "1e50e7ce",
   "metadata": {},
   "outputs": [
    {
     "name": "stdout",
     "output_type": "stream",
     "text": [
      "Enter your name: cris\n",
      "Enter a number: 0\n",
      "Zero is not valid!!\n",
      "Enter your name: cris\n",
      "Enter a number: 4\n",
      "cris cris cris cris \n"
     ]
    }
   ],
   "source": [
    "## To do this exercice, I rise Value exception in case the number input is 0, when it is 0 you should enter again the values\n",
    "while True:\n",
    "    try:\n",
    "        name = input('Enter your name: ')\n",
    "        num1 = int(input('Enter a number: '))\n",
    "        if num1 == 0:\n",
    "            raise ValueError('Zero is not valid!!')\n",
    "        break\n",
    "    except ValueError as ve:\n",
    "        print(ve)\n",
    "\n",
    "result = num1*(name+' ')\n",
    "print(result)"
   ]
  },
  {
   "cell_type": "markdown",
   "id": "af16f53e",
   "metadata": {},
   "source": [
    "## Exercice 4\n",
    "\n",
    "<div class=\"alert alert-block alert-info\">Crea un programa que donada una llista qualsevol, et digui si és simètrica o no. Si ho és, que et digui quants elements té.</div>"
   ]
  },
  {
   "cell_type": "markdown",
   "id": "0845bc46",
   "metadata": {},
   "source": [
    "“A **list is symmetric** if the first item (i) is equal to the last (n), the i+1 is equal to the n-1...etc ”"
   ]
  },
  {
   "cell_type": "code",
   "execution_count": 102,
   "id": "c58512ac",
   "metadata": {},
   "outputs": [
    {
     "name": "stdout",
     "output_type": "stream",
     "text": [
      "['gos', 'cats', 'cats', 'dogs']\n"
     ]
    }
   ],
   "source": [
    "# Practice with reverse() methode!!\n",
    "##Creat my list\n",
    "mylist1 = ['dogs','cats','cats','gos']\n",
    " \n",
    "# store a copy of list\n",
    "mylist2 = mylist1.copy() \n",
    "mylist2.reverse() \n",
    "# reverse the list\n",
    "print(mylist2)\n"
   ]
  },
  {
   "cell_type": "code",
   "execution_count": 112,
   "id": "1000a449",
   "metadata": {},
   "outputs": [],
   "source": [
    "##I define a function that looks if any list is symetrical\n",
    "\n",
    "def simetricalList(myList):\n",
    "    mylist2 = mylist.copy()\n",
    "    mylist2.reverse()\n",
    "    if mylist == mylist2:\n",
    "        print('Great! you have a symmetrical list!')\n",
    "    else:\n",
    "        print('Sorry, your list is not symmetrical')"
   ]
  },
  {
   "cell_type": "code",
   "execution_count": 113,
   "id": "dbe3ad42",
   "metadata": {},
   "outputs": [
    {
     "name": "stdout",
     "output_type": "stream",
     "text": [
      "Sorry, your list is not symmetrical\n"
     ]
    }
   ],
   "source": [
    "## I define a list and apply my function\n",
    "mylist = ['dogs','cats','cats','gos']\n",
    "\n",
    "simetricalList(mylist)"
   ]
  },
  {
   "cell_type": "code",
   "execution_count": 114,
   "id": "999a8dd5",
   "metadata": {},
   "outputs": [
    {
     "name": "stdout",
     "output_type": "stream",
     "text": [
      "Great! you have a symmetrical list!\n"
     ]
    }
   ],
   "source": [
    "## I dtry with a numerical list\n",
    "mylist = [1, 2, 3, 2, 1]\n",
    "\n",
    "simetricalList(mylist)"
   ]
  }
 ],
 "metadata": {
  "kernelspec": {
   "display_name": "Python 3 (ipykernel)",
   "language": "python",
   "name": "python3"
  },
  "language_info": {
   "codemirror_mode": {
    "name": "ipython",
    "version": 3
   },
   "file_extension": ".py",
   "mimetype": "text/x-python",
   "name": "python",
   "nbconvert_exporter": "python",
   "pygments_lexer": "ipython3",
   "version": "3.9.12"
  }
 },
 "nbformat": 4,
 "nbformat_minor": 5
}
