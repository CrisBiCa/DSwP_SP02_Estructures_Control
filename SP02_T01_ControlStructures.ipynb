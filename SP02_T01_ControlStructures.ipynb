{
 "cells": [
  {
   "cell_type": "markdown",
   "id": "04ba8539",
   "metadata": {},
   "source": [
    "## Sprint 2 Tasca 1 - Estructures de dades amb Python.\n",
    "\n",
    "\n",
    "- **Exercici 1**\n",
    "\n",
    "    Crea una llista que agrupi els mesos de l’any en trimestres (1T: gener, febrer i març; 2T: abril, maig, juny...), és a dir, una llista amb 4 llistes dins.\n",
    "\n",
    "\n",
    "- **Exercici 2**\n",
    "\n",
    "    Crea un codi que et permeti accedir a:\n",
    "\n",
    "    El segon mes del primer trimestre.\n",
    "    Els mesos del primer trimestre.\n",
    "    Setembre i octubre.\n",
    "\n",
    "\n",
    "- **Exercici 3**\n",
    "\n",
    "    Crea una llista amb nombres desordenats i respon a les següents preguntes:\n",
    "\n",
    "    Quants números hi ha?\n",
    "    Quantes vegades apareix el número 3.\n",
    "    Quantes vegades apareixen els nombres 3 i 4?\n",
    "    Quin és el número més gran?\n",
    "    Quins són els 3 números més petits?\n",
    "    Quin és el rang d’aquesta llista?\n",
    "\n",
    "\n",
    "- **Exercici 4**\n",
    "\n",
    "    Crea un diccionari de la següent forma i respon a les preguntes:\n",
    "    compra = { \"Pomes\" : {\"Qty\": 5, \"€\": 0.42}, \"Peres\" : {\"Qty\": 3, \"€\": 0.66} }\n",
    "        \n",
    "    Afegeix alguna fruita més\n",
    "    Quant han costat les peres en total?\n",
    "    Quantes fruites hem comprat en total?\n",
    "    Quina és la fruita més cara?\n"
   ]
  },
  {
   "cell_type": "code",
   "execution_count": 14,
   "id": "7c63a416",
   "metadata": {},
   "outputs": [],
   "source": [
    "## Importing Libraries\n",
    "import random"
   ]
  },
  {
   "cell_type": "markdown",
   "id": "2d2eab9b",
   "metadata": {},
   "source": [
    "## Exercice 1\n",
    "\n",
    "<div class=\"alert alert-block alert-info\">Crea una llista que agrupi els mesos de l’any en trimestres (1T: gener, febrer i març; 2T: abril, maig, juny...), és a dir, una llista amb 4 llistes dins.\n",
    "</div>"
   ]
  },
  {
   "cell_type": "code",
   "execution_count": 2,
   "id": "f7345b98",
   "metadata": {},
   "outputs": [
    {
     "name": "stdout",
     "output_type": "stream",
     "text": [
      "[['gener', 'febrer', 'març'], ['abril', 'maig', 'juny'], ['juliol', 'agost', 'setembre'], ['octubre', 'novembre', 'desembre']]\n"
     ]
    }
   ],
   "source": [
    "## I create 4 lists one per each trimester, and a list for the year with each trimester inside.\n",
    "trim1 = ['gener', 'febrer', 'març']\n",
    "trim2 = ['abril', 'maig', 'juny']\n",
    "trim3 = ['juliol', 'agost', 'setembre']\n",
    "trim4 = ['octubre', 'novembre', 'desembre']\n",
    "\n",
    "anyllista = [trim1, trim2, trim3, trim4]\n",
    "print(anyllista)"
   ]
  },
  {
   "cell_type": "markdown",
   "id": "aebad9d6",
   "metadata": {},
   "source": [
    "## Exercice 2\n",
    "\n",
    "<div class=\"alert alert-block alert-info\"> Crea un codi que et permeti accedir a:  \n",
    "\n",
    "El segon mes del primer trimestre. Els mesos del primer trimestre. Setembre i octubre.\n",
    "</div>"
   ]
  },
  {
   "cell_type": "code",
   "execution_count": 7,
   "id": "193c4a33",
   "metadata": {},
   "outputs": [
    {
     "data": {
      "text/plain": [
       "'febrer'"
      ]
     },
     "execution_count": 7,
     "metadata": {},
     "output_type": "execute_result"
    }
   ],
   "source": [
    "## The second month of the first trimester\n",
    "anyllista[0][1]"
   ]
  },
  {
   "cell_type": "code",
   "execution_count": 8,
   "id": "da30baf8",
   "metadata": {},
   "outputs": [
    {
     "data": {
      "text/plain": [
       "['gener', 'febrer', 'març']"
      ]
     },
     "execution_count": 8,
     "metadata": {},
     "output_type": "execute_result"
    }
   ],
   "source": [
    "## The months of the 1st trimester\n",
    "anyllista[0]"
   ]
  },
  {
   "cell_type": "code",
   "execution_count": 13,
   "id": "1192d102",
   "metadata": {},
   "outputs": [
    {
     "name": "stdout",
     "output_type": "stream",
     "text": [
      "setembre octubre\n"
     ]
    }
   ],
   "source": [
    "## Printing September and October\n",
    "print(anyllista[2][2],anyllista[3][0])"
   ]
  },
  {
   "cell_type": "markdown",
   "id": "114420dc",
   "metadata": {},
   "source": [
    "## Exercice 3\n",
    "\n",
    "<div class=\"alert alert-block alert-info\">  Crea una llista amb nombres desordenats i respon a les següents preguntes:\n",
    "    \n",
    "\n",
    "Quants números hi ha? Quantes vegades apareix el número 3. Quantes vegades apareixen els nombres 3 i 4? Quin és el número més gran? Quins són els 3 números més petits? Quin és el rang d’aquesta llista?\n",
    "</div>"
   ]
  },
  {
   "cell_type": "code",
   "execution_count": 17,
   "id": "59e74bfb",
   "metadata": {},
   "outputs": [
    {
     "data": {
      "text/plain": [
       "[5, 8, 0, 10, 1, 3, 2, 1, 4, 7]"
      ]
     },
     "execution_count": 17,
     "metadata": {},
     "output_type": "execute_result"
    }
   ],
   "source": [
    "## Creation of a list with random numbers, in my case of length 10 and numbers between 0 and 10, both included\n",
    "randNumList = []\n",
    "n = 10\n",
    "for i in range(n):\n",
    "    randNumList.append(random.randint(0,10)) #Random numbers will be between 0 and 10 including both ends\n",
    "\n",
    "#Showing the list\n",
    "randNumList"
   ]
  },
  {
   "cell_type": "code",
   "execution_count": 18,
   "id": "15129b6d",
   "metadata": {},
   "outputs": [
    {
     "data": {
      "text/plain": [
       "10"
      ]
     },
     "execution_count": 18,
     "metadata": {},
     "output_type": "execute_result"
    }
   ],
   "source": [
    "#Numbers of items i the list\n",
    "len(randNumList)"
   ]
  },
  {
   "cell_type": "code",
   "execution_count": 19,
   "id": "85759428",
   "metadata": {},
   "outputs": [
    {
     "data": {
      "text/plain": [
       "1"
      ]
     },
     "execution_count": 19,
     "metadata": {},
     "output_type": "execute_result"
    }
   ],
   "source": [
    "#How many times 3 appears in the list?\n",
    "randNumList.count(3)"
   ]
  },
  {
   "cell_type": "code",
   "execution_count": 30,
   "id": "35ff9161",
   "metadata": {},
   "outputs": [
    {
     "data": {
      "text/plain": [
       "[1, 1]"
      ]
     },
     "execution_count": 30,
     "metadata": {},
     "output_type": "execute_result"
    }
   ],
   "source": [
    "##How many times 3 and 4 appears in the list?\n",
    "#I creat an empty list where I will put the results\n",
    "# and 2 variables that will represent the numbers we are looking for\n",
    "findNumbers = []\n",
    "a = 3\n",
    "b = 4\n",
    "findNumbers.append(randNumList.count(a))\n",
    "findNumbers.append(randNumList.count(b))\n",
    "\n",
    "##We see below that each number, 3 and 4, respectively, appear 1 time\n",
    "findNumbers"
   ]
  },
  {
   "cell_type": "code",
   "execution_count": 185,
   "id": "c2aa8cee",
   "metadata": {},
   "outputs": [
    {
     "data": {
      "text/plain": [
       "[1, 1]"
      ]
     },
     "execution_count": 185,
     "metadata": {},
     "output_type": "execute_result"
    }
   ],
   "source": [
    "## I do the same, look for how many times 3 and 4 appear, this time creating a function and using conditiona, we get the same result\n",
    "findNumbers = [] ## I define again the list to leave it empty, I could also dothis by dropping its elements\n",
    "def apearance2numbers(a,b,yourlist, newlist): ##Yourlist is the list where you want to find the numbers, newlist is the one to store the occurances\n",
    "    if a == 3 and b == 4:\n",
    "        newlist.append(yourlist.count(a))\n",
    "        newlist.append(yourlist.count(b))\n",
    "    return newlist\n",
    "\n",
    "apearance2numbers(3,4,randNumList,findNumbers) ##Calling the function"
   ]
  },
  {
   "cell_type": "code",
   "execution_count": 54,
   "id": "0a66fd3e",
   "metadata": {},
   "outputs": [
    {
     "data": {
      "text/plain": [
       "10"
      ]
     },
     "execution_count": 54,
     "metadata": {},
     "output_type": "execute_result"
    }
   ],
   "source": [
    "## To find the highest value\n",
    "## I sort the list in descending mode and take the first number\n",
    "randNumList.sort(reverse=True)\n",
    "randNumList[0]"
   ]
  },
  {
   "cell_type": "code",
   "execution_count": 56,
   "id": "7a5c26d3",
   "metadata": {},
   "outputs": [
    {
     "data": {
      "text/plain": [
       "[0, 1, 1]"
      ]
     },
     "execution_count": 56,
     "metadata": {},
     "output_type": "execute_result"
    }
   ],
   "source": [
    "## To find the 3 lowest values\n",
    "## I sort the list in ascending mode and take the 3 first numbers\n",
    "randNumList.sort()\n",
    "randNumList[0:3] #the iondex 3 is not included"
   ]
  },
  {
   "cell_type": "code",
   "execution_count": 60,
   "id": "b2cccf2f",
   "metadata": {},
   "outputs": [
    {
     "data": {
      "text/plain": [
       "range(0, 10)"
      ]
     },
     "execution_count": 60,
     "metadata": {},
     "output_type": "execute_result"
    }
   ],
   "source": [
    "## List Range\n",
    "b = range(len(randNumList))\n",
    "b"
   ]
  },
  {
   "cell_type": "markdown",
   "id": "2945f97a",
   "metadata": {},
   "source": [
    "## Exercice 3\n",
    "\n",
    "<div class=\"alert alert-block alert-info\">  Crea un diccionari de la següent forma i respon a les preguntes: compra = { \"Pomes\" : {\"Qty\": 5, \"€\": 0.42}, \"Peres\" : {\"Qty\": 3, \"€\": 0.66} }\n",
    "\n",
    "Afegeix alguna fruita més Quant han costat les peres en total? Quantes fruites hem comprat en total? Quina és la fruita més cara?\n",
    "</div>\n",
    "\n",
    " "
   ]
  },
  {
   "cell_type": "code",
   "execution_count": 62,
   "id": "8d3efba7",
   "metadata": {},
   "outputs": [
    {
     "data": {
      "text/plain": [
       "{'Pomes': {'Qty': 5, '€': 0.42}, 'Peres': {'Qty': 3, '€': 0.66}}"
      ]
     },
     "execution_count": 62,
     "metadata": {},
     "output_type": "execute_result"
    }
   ],
   "source": [
    "##I create the compra list\n",
    "compra = { \"Pomes\" : {\"Qty\": 5, \n",
    "                      \"€\": 0.42}, \n",
    "          \"Peres\" : {\"Qty\": 3, \n",
    "                     \"€\": 0.66} } \n",
    "compra"
   ]
  },
  {
   "cell_type": "code",
   "execution_count": 72,
   "id": "9380204b",
   "metadata": {},
   "outputs": [],
   "source": [
    "#Afegim una carbassa\n",
    "compra[\"Llimona\"] = {\"Qty\": 5, \n",
    "                     \"€\": 1.5}"
   ]
  },
  {
   "cell_type": "code",
   "execution_count": 68,
   "id": "b2791caf",
   "metadata": {},
   "outputs": [],
   "source": [
    "#Afegim una cindria\n",
    "compra[\"cindria\"] = {\"Qty\": 1, \n",
    "                     \"€\": 2.5}"
   ]
  },
  {
   "cell_type": "code",
   "execution_count": 76,
   "id": "c3734327",
   "metadata": {},
   "outputs": [
    {
     "data": {
      "text/plain": [
       "{'Pomes': {'Qty': 5, '€': 0.42},\n",
       " 'Peres': {'Qty': 3, '€': 0.66},\n",
       " 'cindria': {'Qty': 1, '€': 2.5},\n",
       " 'Llimona': {'Qty': 5, '€': 1.5}}"
      ]
     },
     "execution_count": 76,
     "metadata": {},
     "output_type": "execute_result"
    }
   ],
   "source": [
    "##Showing the update\n",
    "compra"
   ]
  },
  {
   "cell_type": "code",
   "execution_count": 71,
   "id": "7de7fcac",
   "metadata": {},
   "outputs": [
    {
     "data": {
      "text/plain": [
       "0.66"
      ]
     },
     "execution_count": 71,
     "metadata": {},
     "output_type": "execute_result"
    }
   ],
   "source": [
    "## Quan ha costat les peres?\n",
    "\n",
    "compra[\"Peres\"].get('€')"
   ]
  },
  {
   "cell_type": "code",
   "execution_count": 91,
   "id": "01b27230",
   "metadata": {},
   "outputs": [
    {
     "data": {
      "text/plain": [
       "14"
      ]
     },
     "execution_count": 91,
     "metadata": {},
     "output_type": "execute_result"
    }
   ],
   "source": [
    "## Quantes fruites hem comprat en total?\n",
    "# I creat an empty list where I will put the number of fruits he have\n",
    "numOfFruts =[]\n",
    "for i in compra:\n",
    "    a = compra[i].get(\"Qty\")\n",
    "    numOfFruts.append(int(a))\n",
    "\n",
    "##I sum the elements of the list created\n",
    "sumaa = sum(numOfFruts)\n",
    "sumaa"
   ]
  },
  {
   "cell_type": "code",
   "execution_count": 99,
   "id": "a9d1b00a",
   "metadata": {},
   "outputs": [
    {
     "data": {
      "text/plain": [
       "[0.42, 0.66, 2.5, 1.5]"
      ]
     },
     "execution_count": 99,
     "metadata": {},
     "output_type": "execute_result"
    }
   ],
   "source": [
    "## Which is the most expensive fruit?\n",
    "# I creat an empty list where I will put the number of fruits we have\n",
    "pricesOfFruits = []\n",
    "for i in compra:\n",
    "    a = compra[i].get(\"€\")\n",
    "    pricesOfFruits.append(a)\n",
    "    \n",
    "pricesOfFruits"
   ]
  },
  {
   "cell_type": "code",
   "execution_count": 180,
   "id": "b197bb4c",
   "metadata": {},
   "outputs": [
    {
     "data": {
      "text/plain": [
       "2"
      ]
     },
     "execution_count": 180,
     "metadata": {},
     "output_type": "execute_result"
    }
   ],
   "source": [
    "#Iget the maximum price index\n",
    "mostExp = max(pricesOfFruits)\n",
    "mostExpIndex = pricesOfFruits.index(mostExp)\n",
    "mostExpIndex"
   ]
  },
  {
   "cell_type": "code",
   "execution_count": 183,
   "id": "6594cce7",
   "metadata": {},
   "outputs": [
    {
     "data": {
      "text/plain": [
       "'cindria'"
      ]
     },
     "execution_count": 183,
     "metadata": {},
     "output_type": "execute_result"
    }
   ],
   "source": [
    "##Then I will get from a list of the keys the one with that index\n",
    "listOfKey = list(compra.keys())\n",
    "listOfKey[mostExpIndex]"
   ]
  }
 ],
 "metadata": {
  "kernelspec": {
   "display_name": "Python 3 (ipykernel)",
   "language": "python",
   "name": "python3"
  },
  "language_info": {
   "codemirror_mode": {
    "name": "ipython",
    "version": 3
   },
   "file_extension": ".py",
   "mimetype": "text/x-python",
   "name": "python",
   "nbconvert_exporter": "python",
   "pygments_lexer": "ipython3",
   "version": "3.9.12"
  }
 },
 "nbformat": 4,
 "nbformat_minor": 5
}
